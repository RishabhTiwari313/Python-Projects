{
 "cells": [
  {
   "cell_type": "markdown",
   "metadata": {},
   "source": [
    "### Tic-Tac-toe game"
   ]
  },
  {
   "cell_type": "code",
   "execution_count": 1,
   "metadata": {},
   "outputs": [],
   "source": [
    "# setup 3 by 3 board display\n",
    "from IPython.display import clear_output  \n",
    "def display_board(board):\n",
    "    clear_output()          ## to erase the history of the output\n",
    "    print(' | |')\n",
    "    print(board[7]+'|'+board[8]+'|'+board[9])\n",
    "    print(' | |')\n",
    "    print('--------') \n",
    "    print(' | |')\n",
    "    print(board[4]+'|'+board[5]+'|'+board[6])\n",
    "    print(' | |')\n",
    "    print('--------')\n",
    "    print(' | |')\n",
    "    print(board[1]+'|'+board[2]+'|'+board[3])\n",
    "    print(' | |')"
   ]
  },
  {
   "cell_type": "code",
   "execution_count": 2,
   "metadata": {},
   "outputs": [
    {
     "name": "stdout",
     "output_type": "stream",
     "text": [
      " | |\n",
      "X|O|X\n",
      " | |\n",
      "--------\n",
      " | |\n",
      "O|X|O\n",
      " | |\n",
      "--------\n",
      " | |\n",
      "X|O|X\n",
      " | |\n"
     ]
    }
   ],
   "source": [
    "test_board = ['#','X','O','X','O','X','O','X','O','X']   ## testing the display board\n",
    "display_board(test_board)"
   ]
  },
  {
   "cell_type": "code",
   "execution_count": 3,
   "metadata": {},
   "outputs": [],
   "source": [
    "## take player input and assign the marker 'X','O'\n",
    "def player_input():\n",
    "    \n",
    "    '''\n",
    "        OUTPUT = (player 1 marker, player 2 marker)\n",
    "    '''\n",
    "    \n",
    "    marker = ''\n",
    "    \n",
    "    while marker != 'X' and marker != 'O':\n",
    "        marker = input(\"player1 : choose X or O : \").upper()\n",
    "        \n",
    "    if marker =='X':\n",
    "        return ('X','O')\n",
    "    else:\n",
    "        return ('O','X')\n",
    "        "
   ]
  },
  {
   "cell_type": "code",
   "execution_count": 4,
   "metadata": {},
   "outputs": [
    {
     "name": "stdout",
     "output_type": "stream",
     "text": [
      "player1 : choose X or O : x\n"
     ]
    }
   ],
   "source": [
    "player1_marker, player2_marker = player_input()"
   ]
  },
  {
   "cell_type": "code",
   "execution_count": 5,
   "metadata": {},
   "outputs": [
    {
     "data": {
      "text/plain": [
       "'O'"
      ]
     },
     "execution_count": 5,
     "metadata": {},
     "output_type": "execute_result"
    }
   ],
   "source": [
    "player2_marker"
   ]
  },
  {
   "cell_type": "code",
   "execution_count": 6,
   "metadata": {},
   "outputs": [
    {
     "data": {
      "text/plain": [
       "'X'"
      ]
     },
     "execution_count": 6,
     "metadata": {},
     "output_type": "execute_result"
    }
   ],
   "source": [
    "player1_marker"
   ]
  },
  {
   "cell_type": "code",
   "execution_count": 7,
   "metadata": {},
   "outputs": [],
   "source": [
    "## define position\n",
    "def place_maker(board,marker,position):\n",
    "    board[position] = marker"
   ]
  },
  {
   "cell_type": "code",
   "execution_count": 8,
   "metadata": {},
   "outputs": [
    {
     "data": {
      "text/plain": [
       "['#', 'X', 'O', 'X', 'O', 'X', 'O', 'X', 'O', 'X']"
      ]
     },
     "execution_count": 8,
     "metadata": {},
     "output_type": "execute_result"
    }
   ],
   "source": [
    "test_board"
   ]
  },
  {
   "cell_type": "code",
   "execution_count": 9,
   "metadata": {},
   "outputs": [
    {
     "name": "stdout",
     "output_type": "stream",
     "text": [
      " | |\n",
      "X|$|X\n",
      " | |\n",
      "--------\n",
      " | |\n",
      "O|X|O\n",
      " | |\n",
      "--------\n",
      " | |\n",
      "X|O|X\n",
      " | |\n"
     ]
    }
   ],
   "source": [
    "place_maker(test_board,'$',8)\n",
    "display_board(test_board)"
   ]
  },
  {
   "cell_type": "code",
   "execution_count": 10,
   "metadata": {},
   "outputs": [],
   "source": [
    "## check if the mark ( X or O) has won\n",
    "def win_check(board,mark):\n",
    "    ## win tic tac toe?\n",
    "    ## All rows, and check to see if they all share the same marker\n",
    "    ## all columns, and check to see if they share the same marker\n",
    "    ## 2 diagonals to see if they match \n",
    "    return((board[7] == mark and board[8] == mark and board[9] ==mark) or\n",
    "    (board[4] == mark and board[5] == mark and board[6] ==mark) or\n",
    "    (board[1] == mark and board[2] == mark and board[3] ==mark) or\n",
    "    (board[7] == mark and board[4] == mark and board[1] ==mark) or\n",
    "    (board[8] == mark and board[5] == mark and board[2] ==mark) or\n",
    "    (board[9] == mark and board[6] == mark and board[3] ==mark) or\n",
    "    (board[7] == mark and board[5] == mark and board[3] ==mark) or\n",
    "    (board[9] == mark and board[5] == mark and board[1] ==mark))"
   ]
  },
  {
   "cell_type": "code",
   "execution_count": 11,
   "metadata": {},
   "outputs": [
    {
     "name": "stdout",
     "output_type": "stream",
     "text": [
      " | |\n",
      "X|$|X\n",
      " | |\n",
      "--------\n",
      " | |\n",
      "O|X|O\n",
      " | |\n",
      "--------\n",
      " | |\n",
      "X|O|X\n",
      " | |\n"
     ]
    },
    {
     "data": {
      "text/plain": [
       "True"
      ]
     },
     "execution_count": 11,
     "metadata": {},
     "output_type": "execute_result"
    }
   ],
   "source": [
    "display_board(test_board)\n",
    "win_check(test_board,'X')"
   ]
  },
  {
   "cell_type": "code",
   "execution_count": 12,
   "metadata": {},
   "outputs": [],
   "source": [
    "## randomly decide which player goes first\n",
    "import random\n",
    "def choose_first():\n",
    "    flip = random.randint(0,1)\n",
    "    if flip ==0:\n",
    "        return 'player 1'\n",
    "    else:\n",
    "        return 'player 2'"
   ]
  },
  {
   "cell_type": "code",
   "execution_count": 13,
   "metadata": {},
   "outputs": [],
   "source": [
    "## checking space on the board is freely available?\n",
    "def space_check(board,position):\n",
    "    return board[position] == ' '"
   ]
  },
  {
   "cell_type": "code",
   "execution_count": 14,
   "metadata": {},
   "outputs": [],
   "source": [
    "## check if the board is full\n",
    "def full_board_check(board):\n",
    "    for i in range(1,10):\n",
    "        if space_check(board,i):\n",
    "            return False\n",
    "    return True"
   ]
  },
  {
   "cell_type": "code",
   "execution_count": 15,
   "metadata": {},
   "outputs": [],
   "source": [
    "## ask the player for next position\n",
    "def palyer_choice(board):\n",
    "    position = 0\n",
    "    while position not in [1,2,3,4,5,6,7,8,9] or not space_check(board,position):\n",
    "        position = int(input('choose a position(1-9): '))\n",
    "    return position"
   ]
  },
  {
   "cell_type": "code",
   "execution_count": 16,
   "metadata": {},
   "outputs": [],
   "source": [
    "## ask the player if they want to play again\n",
    "def replay():\n",
    "    choice = input('plaay again? Enter Yes or No')\n",
    "    return choice == 'Yes'"
   ]
  },
  {
   "cell_type": "code",
   "execution_count": 17,
   "metadata": {},
   "outputs": [
    {
     "name": "stdout",
     "output_type": "stream",
     "text": [
      " | |\n",
      "X|O|X\n",
      " | |\n",
      "--------\n",
      " | |\n",
      " |X|O\n",
      " | |\n",
      "--------\n",
      " | |\n",
      "O| |X\n",
      " | |\n",
      "player1 has won\n",
      "plaay again? Enter Yes or Non\n"
     ]
    }
   ],
   "source": [
    "print('Welcome to tic-tac-toe')\n",
    "\n",
    "while True:\n",
    "    ## play the game\n",
    "    ##set everything up (board, who's first, choose markers X or O)\n",
    "    the_board = [' ']*10\n",
    "    player1_marker, player2_marker = player_input()\n",
    "    \n",
    "    turn = choose_first()\n",
    "    print(turn + 'will go first')\n",
    "    \n",
    "    play_game = input('ready to play? y or n?')\n",
    "    if play_game == 'y':\n",
    "        game_on = True\n",
    "    else:\n",
    "        game_on = False\n",
    "        \n",
    "    ## game play\n",
    "    \n",
    "    while game_on:\n",
    "        if turn == 'player 1':\n",
    "            ## show the board\n",
    "            display_board(the_board)\n",
    "            ## choose a position\n",
    "            position = palyer_choice(the_board)\n",
    "            ## place the marker on the position\n",
    "            place_maker(the_board,player1_marker,position)\n",
    "            ## check if they won\n",
    "            if win_check(the_board,player1_marker):\n",
    "                display_board(the_board)\n",
    "                print('player1 has won')\n",
    "                game_on = False\n",
    "            else:\n",
    "                if full_board_check(the_board):\n",
    "                    display_board(the_board)\n",
    "                    print('Tie game')\n",
    "                    game_on = False\n",
    "                else:\n",
    "                    turn = 'player 2'\n",
    "            \n",
    "        else:\n",
    "            ## show the board\n",
    "            display_board(the_board)\n",
    "            ## choose a position\n",
    "            position = palyer_choice(the_board)\n",
    "            ## place the marker on the position\n",
    "            place_maker(the_board,player2_marker,position)\n",
    "            ## check if they won\n",
    "            if win_check(the_board,player2_marker):\n",
    "                display_board(the_board)\n",
    "                print('player2 has won')\n",
    "                game_on = False\n",
    "            else:\n",
    "                if full_board_check(the_board):\n",
    "                    display_board(the_board)\n",
    "                    print('Tie game')\n",
    "                    game_on = False\n",
    "                else:\n",
    "                    turn = 'player 1'\n",
    "    if not replay():\n",
    "        break\n",
    "            \n",
    "            \n",
    "    ## player one turn\n",
    "    ## player two turn"
   ]
  },
  {
   "cell_type": "code",
   "execution_count": null,
   "metadata": {},
   "outputs": [],
   "source": []
  }
 ],
 "metadata": {
  "kernelspec": {
   "display_name": "Python 3",
   "language": "python",
   "name": "python3"
  },
  "language_info": {
   "codemirror_mode": {
    "name": "ipython",
    "version": 3
   },
   "file_extension": ".py",
   "mimetype": "text/x-python",
   "name": "python",
   "nbconvert_exporter": "python",
   "pygments_lexer": "ipython3",
   "version": "3.7.4"
  }
 },
 "nbformat": 4,
 "nbformat_minor": 2
}
